{
 "cells": [
  {
   "cell_type": "code",
   "execution_count": 7,
   "metadata": {
    "collapsed": false
   },
   "outputs": [],
   "source": [
    "import numpy as np\n",
    "import nltk, re, pprint\n",
    "from nltk import word_tokenize\n",
    "from nltk.tokenize import sent_tokenize\n",
    "from urllib.request import urlopen\n",
    "from sklearn.preprocessing import OneHotEncoder\n",
    "from sklearn import preprocessing\n",
    "import re\n",
    "# nltk.download() # <-- might need this if tokenize doens't work"
   ]
  },
  {
   "cell_type": "code",
   "execution_count": 4,
   "metadata": {
    "collapsed": false
   },
   "outputs": [],
   "source": [
    "url = \"http://www.gutenberg.org/files/2554/2554-0.txt\"\n",
    "response = urlopen(url)\n",
    "raw = response.read().decode('utf8')\n",
    "wordTokens = word_tokenize(raw)\n",
    "sentTokens = sent_tokenize(raw)\n",
    "\n",
    "# Cleaning sentences\n",
    "for i in range(len(sentTokens)):\n",
    "    sentTokens[i] = re.sub(r'\\r*\\n', \" \", sentTokens[i])\n",
    "    sentTokens[i] = re.sub(r' +', \" \", sentTokens[i])"
   ]
  },
  {
   "cell_type": "code",
   "execution_count": 8,
   "metadata": {
    "collapsed": false
   },
   "outputs": [
    {
     "name": "stdout",
     "output_type": "stream",
     "text": [
      "Word one-hot dimensions: (244758, 12444)\n",
      "Sentence one-hot dimensions: (12059, 11961)\n"
     ]
    }
   ],
   "source": [
    "# Creating one-hot representations\n",
    "wordlb = preprocessing.LabelBinarizer()\n",
    "fullWordEncoding = wordlb.fit_transform(wordTokens)\n",
    "print(\"Word one-hot dimensions:\", fullWordEncoding.shape)\n",
    "sentencelb = preprocessing.LabelBinarizer()\n",
    "fullSentenceEncoding = sentencelb.fit_transform(sentTokens)\n",
    "print(\"Sentence one-hot dimensions:\",fullSentenceEncoding.shape)"
   ]
  },
  {
   "cell_type": "code",
   "execution_count": 9,
   "metadata": {
    "collapsed": false
   },
   "outputs": [],
   "source": [
    "def getSentence(index):\n",
    "#     sent = sentencelb.inverse_transform(np.array([fullSentenceEncoding[index]])) # Sentence w/ words\n",
    "    sent= fullSentenceEncoding[index] # One-hot sentence\n",
    "    print(sent)\n",
    "    print(\"Sentence #:\", index)\n",
    "    return(sent)\n"
   ]
  },
  {
   "cell_type": "code",
   "execution_count": 10,
   "metadata": {
    "collapsed": false
   },
   "outputs": [
    {
     "name": "stdout",
     "output_type": "stream",
     "text": [
      "[0 0 0 ..., 0 0 1]\n",
      "Sentence #: 0\n",
      "[0 0 0 ..., 0 0 0]\n",
      "Sentence #: 1\n",
      "[0 0 0 ..., 0 0 0]\n",
      "Sentence #: 2\n",
      "[0 0 0 ..., 0 0 0]\n",
      "Sentence #: 3\n",
      "[0 0 0 ..., 0 0 0]\n",
      "Sentence #: 4\n",
      "[0 0 0 ..., 0 0 0]\n",
      "Sentence #: 5\n",
      "[0 0 0 ..., 0 0 0]\n",
      "Sentence #: 6\n",
      "[0 0 0 ..., 0 0 0]\n",
      "Sentence #: 7\n",
      "[0 0 0 ..., 0 0 0]\n",
      "Sentence #: 8\n",
      "[0 0 0 ..., 0 0 0]\n",
      "Sentence #: 9\n"
     ]
    }
   ],
   "source": [
    "for i in range(10):\n",
    "    getSentence(i)"
   ]
  },
  {
   "cell_type": "code",
   "execution_count": null,
   "metadata": {
    "collapsed": true
   },
   "outputs": [],
   "source": []
  }
 ],
 "metadata": {
  "kernelspec": {
   "display_name": "Python 3",
   "language": "python",
   "name": "python3"
  },
  "language_info": {
   "codemirror_mode": {
    "name": "ipython",
    "version": 3
   },
   "file_extension": ".py",
   "mimetype": "text/x-python",
   "name": "python",
   "nbconvert_exporter": "python",
   "pygments_lexer": "ipython3",
   "version": "3.4.5"
  }
 },
 "nbformat": 4,
 "nbformat_minor": 0
}
